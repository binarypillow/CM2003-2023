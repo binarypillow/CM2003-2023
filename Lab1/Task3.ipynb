{
 "cells": [
  {
   "cell_type": "markdown",
   "id": "ff49b0b53a26851f",
   "metadata": {},
   "source": [
    "# Task 3"
   ]
  },
  {
   "cell_type": "code",
   "execution_count": 1,
   "id": "initial_id",
   "metadata": {
    "ExecuteTime": {
     "end_time": "2023-09-02T20:58:20.030702200Z",
     "start_time": "2023-09-02T20:58:14.100664500Z"
    }
   },
   "outputs": [
    {
     "name": "stdout",
     "output_type": "stream",
     "text": [
      "Number of units:  1\n",
      "1/1 [==============================] - 0s 55ms/step\n",
      "The predicted class labels are: [[0.5]\n",
      " [0.5]\n",
      " [0.5]\n",
      " [0.5]]\n",
      "1/1 [==============================] - 0s 53ms/step\n",
      "1.0\n",
      "------------------\n",
      "Number of units:  10\n",
      "1/1 [==============================] - 0s 38ms/step\n",
      "The predicted class labels are: [[0.41541055]\n",
      " [0.6036364 ]\n",
      " [0.6461832 ]\n",
      " [0.39015847]]\n",
      "1/1 [==============================] - 0s 15ms/step\n",
      "0.60708004\n",
      "------------------\n"
     ]
    }
   ],
   "source": [
    "# Logic operator with Tensorflow Keras\n",
    "import numpy as np\n",
    "from tensorflow.keras.models import Sequential\n",
    "from tensorflow.keras.layers import Dense\n",
    "from tensorflow.keras.optimizers import SGD\n",
    "from tensorflow.keras.utils import plot_model\n",
    "\n",
    "Input = np.array([[0,0],[0,1],[1,0],[1,1]], \"float32\")\n",
    "Target = np.array([[0],[1],[1],[0]], \"float32\")\n",
    "\n",
    "units = [1, 10]\n",
    "learning_rate = 0.01\n",
    "n_epochs = 2000\n",
    "\n",
    "for n_unit in units:\n",
    "    model = Sequential()\n",
    "    # First hidden layer\n",
    "    model.add(Dense(n_unit, input_dim=2, activation='relu'))\n",
    "    # Output layer\n",
    "    model.add(Dense(1, activation='sigmoid'))\n",
    "    model.compile(loss='mean_squared_error', \n",
    "                optimizer = SGD(learning_rate = learning_rate), \n",
    "                metrics=['binary_accuracy'])\n",
    "    model.fit(Input, Target, epochs = n_epochs, verbose=0)\n",
    "\n",
    "    # Print the results\n",
    "    print(\"Number of units: \",n_unit)\n",
    "    print(\"The predicted class labels are:\", model.predict(Input))\n",
    "    errors = (Target - model.predict(Input))**2\n",
    "    print((np.sum(errors))) # Objective(loss) function\n",
    "    print(\"------------------\")"
   ]
  }
 ],
 "metadata": {
  "kernelspec": {
   "display_name": "Python 3",
   "language": "python",
   "name": "python3"
  },
  "language_info": {
   "codemirror_mode": {
    "name": "ipython",
    "version": 3
   },
   "file_extension": ".py",
   "mimetype": "text/x-python",
   "name": "python",
   "nbconvert_exporter": "python",
   "pygments_lexer": "ipython3",
   "version": "3.8.10"
  }
 },
 "nbformat": 4,
 "nbformat_minor": 5
}
