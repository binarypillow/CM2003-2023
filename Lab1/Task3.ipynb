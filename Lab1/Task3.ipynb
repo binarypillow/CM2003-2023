{
 "cells": [
  {
   "cell_type": "markdown",
   "id": "ff49b0b53a26851f",
   "metadata": {},
   "source": [
    "# Task 3"
   ]
  },
  {
   "cell_type": "code",
   "execution_count": 18,
   "id": "initial_id",
   "metadata": {
    "ExecuteTime": {
     "end_time": "2023-09-02T20:58:20.030702200Z",
     "start_time": "2023-09-02T20:58:14.100664500Z"
    }
   },
   "outputs": [
    {
     "name": "stdout",
     "output_type": "stream",
     "text": [
      "1/1 [==============================] - 0s 34ms/step\n",
      "The predicted class labels are: [[0.40048012]\n",
      " [0.7484978 ]\n",
      " [0.6293341 ]\n",
      " [0.33328635]]\n",
      "1/1 [==============================] - 0s 14ms/step\n",
      "0.47211072\n"
     ]
    }
   ],
   "source": [
    "# Logic operator with Tensorflow Keras\n",
    "import numpy as np\n",
    "from tensorflow.keras.models import Sequential\n",
    "from tensorflow.keras.layers import Dense\n",
    "from tensorflow.keras.optimizers import SGD\n",
    "from tensorflow.keras.utils import plot_model\n",
    "\n",
    "Input = np.array([[0,0],[0,1],[1,0],[1,1]], \"float32\")\n",
    "Target = np.array([[0],[1],[1],[0]], \"float32\")\n",
    "n_unit = 10\n",
    "model = Sequential()\n",
    "# First hidden layer\n",
    "model.add(Dense(n_unit, input_dim=2, activation='relu'))\n",
    "# Output layer\n",
    "model.add(Dense(1, activation='sigmoid'))\n",
    "model.compile(loss='mean_squared_error', \n",
    "              optimizer = SGD(learning_rate = 0.01), \n",
    "              metrics=['binary_accuracy'])\n",
    "model.fit(Input, Target, epochs = 2000, verbose=0)\n",
    "\n",
    "# Print the results\n",
    "print(\"The predicted class labels are:\", model.predict(Input))\n",
    "errors = (Target - model.predict(Input))**2\n",
    "print((np.sum(errors))) # Objective(loss) function"
   ]
  }
 ],
 "metadata": {
  "kernelspec": {
   "display_name": "Python 3",
   "language": "python",
   "name": "python3"
  },
  "language_info": {
   "codemirror_mode": {
    "name": "ipython",
    "version": 3
   },
   "file_extension": ".py",
   "mimetype": "text/x-python",
   "name": "python",
   "nbconvert_exporter": "python",
   "pygments_lexer": "ipython3",
   "version": "3.8.10"
  }
 },
 "nbformat": 4,
 "nbformat_minor": 5
}
