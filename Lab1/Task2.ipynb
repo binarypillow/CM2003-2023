{
 "cells": [
  {
   "cell_type": "markdown",
   "id": "2b589d38f5bf228a",
   "metadata": {
    "collapsed": false
   },
   "source": [
    "# TASK 2"
   ]
  },
  {
   "cell_type": "code",
   "execution_count": 1,
   "id": "fbb7f564af2eb98a",
   "metadata": {
    "ExecuteTime": {
     "end_time": "2023-09-02T20:16:52.348944400Z",
     "start_time": "2023-09-02T20:16:51.422850100Z"
    },
    "collapsed": false
   },
   "outputs": [
    {
     "name": "stderr",
     "output_type": "stream",
     "text": [
      "Matplotlib created a temporary config/cache directory at /tmp/matplotlib-iqk9q_hy because the default path (/home/group_3/.config/matplotlib) is not a writable directory; it is highly recommended to set the MPLCONFIGDIR environment variable to a writable directory, in particular to speed up the import of Matplotlib and to better support multiprocessing.\n"
     ]
    },
    {
     "name": "stdout",
     "output_type": "stream",
     "text": [
      "The target values are: [[0]\n",
      " [1]\n",
      " [1]\n",
      " [0]]\n",
      "The predicted values are: [[0.50188074]\n",
      " [0.502105  ]\n",
      " [0.50201217]\n",
      " [0.50220438]]\n"
     ]
    },
    {
     "data": {
      "image/png": "[encoded data removed]",
      "text/plain": [
       "<Figure size 640x480 with 1 Axes>"
      ]
     },
     "metadata": {},
     "output_type": "display_data"
    },
    {
     "name": "stdout",
     "output_type": "stream",
     "text": [
      "The lowest SSD is: 0.9999848261078346\n"
     ]
    }
   ],
   "source": [
    "# Logic Operator\n",
    "import numpy as np\n",
    "import matplotlib.pyplot as plt\n",
    "\n",
    "\n",
    "# Sigmoid function\n",
    "def sigmoid(x):\n",
    "    return 1.0 / (1 + np.exp(-x))\n",
    "\n",
    "\n",
    "# Derivative of Sigmoid function for backprop\n",
    "def sigmoid_derivative(x):\n",
    "    return x * (1.0 - x)\n",
    "\n",
    "\n",
    "# Define the neural network\n",
    "class NeuralNetwork:\n",
    "    def __init__(self, x, y, n):\n",
    "        self.input = x\n",
    "        self.neuron = n\n",
    "        self.weights1 = np.random.rand(self.input.shape[1], self.neuron)  # X dimension input connected to N neurons\n",
    "        self.weights2 = np.random.rand(self.neuron, 1)  # N neurons connected to output\n",
    "        self.y = y\n",
    "        self.output = np.zeros(self.y.shape)  # instantiating the output\n",
    "\n",
    "    def feedforward(self):\n",
    "        self.layer1 = sigmoid(np.dot(self.input, self.weights1))\n",
    "        self.output = sigmoid(np.dot(self.layer1, self.weights2))\n",
    "\n",
    "    def backprop(self):\n",
    "        # Chain rule to calculate derivative of the loss function with respect to weights2 and weights1\n",
    "        d_weights2 = np.dot(self.layer1.T, (2 * (self.y - self.output) * sigmoid_derivative(self.output)))\n",
    "        d_weights1 = np.dot(self.input.T, (np.dot(2 * (self.y - self.output) * sigmoid_derivative(self.output), self.weights2.T) * sigmoid_derivative(self.layer1)))\n",
    "        # Weights updating\n",
    "        self.weights1 += d_weights1\n",
    "        self.weights2 += d_weights2\n",
    "\n",
    "\n",
    "iterations = 10\n",
    "n_unit = 1\n",
    "Input = np.array([[0, 0, 1],\n",
    "                  [0, 1, 1],\n",
    "                  [1, 0, 1],\n",
    "                  [1, 1, 1]])\n",
    "Target = np.array([[0], [1], [1], [0]])\n",
    "model = NeuralNetwork(Input, Target, n_unit)\n",
    "SSD = []\n",
    "for i in range(iterations):\n",
    "    model.feedforward()\n",
    "    model.backprop()\n",
    "    errors = (Target - model.output) ** 2\n",
    "    SSD.append(np.sum(errors))  # Objective(loss) function\n",
    "Itr = np.linspace(1, len(SSD), len(SSD))\n",
    "plt.plot(Itr, SSD)\n",
    "plt.xlabel('Iterations')\n",
    "plt.ylabel('SSD')\n",
    "\n",
    "# Print the results\n",
    "print(\"The target values are:\", Target)\n",
    "print(\"The predicted values are:\", model.output)\n",
    "plt.show()\n",
    "print(\"The lowest SSD is:\", min(SSD))"
   ]
  }
 ],
 "metadata": {
  "kernelspec": {
   "display_name": "Python 3",
   "language": "python",
   "name": "python3"
  },
  "language_info": {
   "codemirror_mode": {
    "name": "ipython",
    "version": 3
   },
   "file_extension": ".py",
   "mimetype": "text/x-python",
   "name": "python",
   "nbconvert_exporter": "python",
   "pygments_lexer": "ipython3",
   "version": "3.8.10"
  }
 },
 "nbformat": 4,
 "nbformat_minor": 5
}
